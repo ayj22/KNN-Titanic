{
  "nbformat": 4,
  "nbformat_minor": 0,
  "metadata": {
    "colab": {
      "name": "KNN-Classifier-TItanic",
      "provenance": [],
      "collapsed_sections": []
    },
    "kernelspec": {
      "name": "python3",
      "display_name": "Python 3"
    }
  },
  "cells": [
    {
      "cell_type": "markdown",
      "metadata": {
        "id": "k5ThGIIjeJ4y",
        "colab_type": "text"
      },
      "source": [
        "In this assignment we are supposed to apply KNN algorithm to train the model to predict the survivor rate. As earlier assignments we ahve applied different algorithms now after applying this algorithm we are supposed to compare all the algorithms based on the results."
      ]
    },
    {
      "cell_type": "code",
      "metadata": {
        "id": "Hbr-q-6NdYpt",
        "colab_type": "code",
        "outputId": "fa0a3f56-d9bc-4ad9-d7eb-6b641af226e4",
        "colab": {
          "base_uri": "https://localhost:8080/",
          "height": 70
        }
      },
      "source": [
        "#Import the libraries\n",
        "import numpy as np\n",
        "import pandas as pd\n",
        "import matplotlib.pyplot as plt\n",
        "import seaborn as sns"
      ],
      "execution_count": 1,
      "outputs": [
        {
          "output_type": "stream",
          "text": [
            "/usr/local/lib/python3.6/dist-packages/statsmodels/tools/_testing.py:19: FutureWarning: pandas.util.testing is deprecated. Use the functions in the public API at pandas.testing instead.\n",
            "  import pandas.util.testing as tm\n"
          ],
          "name": "stderr"
        }
      ]
    },
    {
      "cell_type": "code",
      "metadata": {
        "id": "mcAnpcJKdtE7",
        "colab_type": "code",
        "colab": {}
      },
      "source": [
        "#Importing datasets\n",
        "train_data = pd.read_csv(\"train_data.csv\")\n",
        "test_data = pd.read_csv(\"test_data.csv\")"
      ],
      "execution_count": 0,
      "outputs": []
    },
    {
      "cell_type": "code",
      "metadata": {
        "id": "e-7z7q8pUiKr",
        "colab_type": "code",
        "colab": {
          "base_uri": "https://localhost:8080/",
          "height": 232
        },
        "outputId": "9097fed7-7f9c-413a-9aa3-8a2d3a61a9ba"
      },
      "source": [
        "#Top 5 rows of the training dataset\n",
        "train_data.head()"
      ],
      "execution_count": 3,
      "outputs": [
        {
          "output_type": "execute_result",
          "data": {
            "text/html": [
              "<div>\n",
              "<style scoped>\n",
              "    .dataframe tbody tr th:only-of-type {\n",
              "        vertical-align: middle;\n",
              "    }\n",
              "\n",
              "    .dataframe tbody tr th {\n",
              "        vertical-align: top;\n",
              "    }\n",
              "\n",
              "    .dataframe thead th {\n",
              "        text-align: right;\n",
              "    }\n",
              "</style>\n",
              "<table border=\"1\" class=\"dataframe\">\n",
              "  <thead>\n",
              "    <tr style=\"text-align: right;\">\n",
              "      <th></th>\n",
              "      <th>Unnamed: 0</th>\n",
              "      <th>PassengerId</th>\n",
              "      <th>Survived</th>\n",
              "      <th>Sex</th>\n",
              "      <th>Age</th>\n",
              "      <th>Fare</th>\n",
              "      <th>Pclass_1</th>\n",
              "      <th>Pclass_2</th>\n",
              "      <th>Pclass_3</th>\n",
              "      <th>Family_size</th>\n",
              "      <th>Title_1</th>\n",
              "      <th>Title_2</th>\n",
              "      <th>Title_3</th>\n",
              "      <th>Title_4</th>\n",
              "      <th>Emb_1</th>\n",
              "      <th>Emb_2</th>\n",
              "      <th>Emb_3</th>\n",
              "    </tr>\n",
              "  </thead>\n",
              "  <tbody>\n",
              "    <tr>\n",
              "      <th>0</th>\n",
              "      <td>0</td>\n",
              "      <td>1</td>\n",
              "      <td>0</td>\n",
              "      <td>1</td>\n",
              "      <td>0.2750</td>\n",
              "      <td>0.014151</td>\n",
              "      <td>0</td>\n",
              "      <td>0</td>\n",
              "      <td>1</td>\n",
              "      <td>0.1</td>\n",
              "      <td>1</td>\n",
              "      <td>0</td>\n",
              "      <td>0</td>\n",
              "      <td>0</td>\n",
              "      <td>0</td>\n",
              "      <td>0</td>\n",
              "      <td>1</td>\n",
              "    </tr>\n",
              "    <tr>\n",
              "      <th>1</th>\n",
              "      <td>1</td>\n",
              "      <td>2</td>\n",
              "      <td>1</td>\n",
              "      <td>0</td>\n",
              "      <td>0.4750</td>\n",
              "      <td>0.139136</td>\n",
              "      <td>1</td>\n",
              "      <td>0</td>\n",
              "      <td>0</td>\n",
              "      <td>0.1</td>\n",
              "      <td>1</td>\n",
              "      <td>0</td>\n",
              "      <td>0</td>\n",
              "      <td>0</td>\n",
              "      <td>1</td>\n",
              "      <td>0</td>\n",
              "      <td>0</td>\n",
              "    </tr>\n",
              "    <tr>\n",
              "      <th>2</th>\n",
              "      <td>2</td>\n",
              "      <td>3</td>\n",
              "      <td>1</td>\n",
              "      <td>0</td>\n",
              "      <td>0.3250</td>\n",
              "      <td>0.015469</td>\n",
              "      <td>0</td>\n",
              "      <td>0</td>\n",
              "      <td>1</td>\n",
              "      <td>0.0</td>\n",
              "      <td>0</td>\n",
              "      <td>0</td>\n",
              "      <td>0</td>\n",
              "      <td>1</td>\n",
              "      <td>0</td>\n",
              "      <td>0</td>\n",
              "      <td>1</td>\n",
              "    </tr>\n",
              "    <tr>\n",
              "      <th>3</th>\n",
              "      <td>3</td>\n",
              "      <td>4</td>\n",
              "      <td>1</td>\n",
              "      <td>0</td>\n",
              "      <td>0.4375</td>\n",
              "      <td>0.103644</td>\n",
              "      <td>1</td>\n",
              "      <td>0</td>\n",
              "      <td>0</td>\n",
              "      <td>0.1</td>\n",
              "      <td>1</td>\n",
              "      <td>0</td>\n",
              "      <td>0</td>\n",
              "      <td>0</td>\n",
              "      <td>0</td>\n",
              "      <td>0</td>\n",
              "      <td>1</td>\n",
              "    </tr>\n",
              "    <tr>\n",
              "      <th>4</th>\n",
              "      <td>4</td>\n",
              "      <td>5</td>\n",
              "      <td>0</td>\n",
              "      <td>1</td>\n",
              "      <td>0.4375</td>\n",
              "      <td>0.015713</td>\n",
              "      <td>0</td>\n",
              "      <td>0</td>\n",
              "      <td>1</td>\n",
              "      <td>0.0</td>\n",
              "      <td>1</td>\n",
              "      <td>0</td>\n",
              "      <td>0</td>\n",
              "      <td>0</td>\n",
              "      <td>0</td>\n",
              "      <td>0</td>\n",
              "      <td>1</td>\n",
              "    </tr>\n",
              "  </tbody>\n",
              "</table>\n",
              "</div>"
            ],
            "text/plain": [
              "   Unnamed: 0  PassengerId  Survived  Sex  ...  Title_4  Emb_1  Emb_2  Emb_3\n",
              "0           0            1         0    1  ...        0      0      0      1\n",
              "1           1            2         1    0  ...        0      1      0      0\n",
              "2           2            3         1    0  ...        1      0      0      1\n",
              "3           3            4         1    0  ...        0      0      0      1\n",
              "4           4            5         0    1  ...        0      0      0      1\n",
              "\n",
              "[5 rows x 17 columns]"
            ]
          },
          "metadata": {
            "tags": []
          },
          "execution_count": 3
        }
      ]
    },
    {
      "cell_type": "code",
      "metadata": {
        "id": "HhZwknWgUlFN",
        "colab_type": "code",
        "colab": {
          "base_uri": "https://localhost:8080/",
          "height": 232
        },
        "outputId": "78c126f6-6370-494f-9157-bc27897f69a6"
      },
      "source": [
        "#Top 5 rows of the test dataset\n",
        "test_data.head()"
      ],
      "execution_count": 4,
      "outputs": [
        {
          "output_type": "execute_result",
          "data": {
            "text/html": [
              "<div>\n",
              "<style scoped>\n",
              "    .dataframe tbody tr th:only-of-type {\n",
              "        vertical-align: middle;\n",
              "    }\n",
              "\n",
              "    .dataframe tbody tr th {\n",
              "        vertical-align: top;\n",
              "    }\n",
              "\n",
              "    .dataframe thead th {\n",
              "        text-align: right;\n",
              "    }\n",
              "</style>\n",
              "<table border=\"1\" class=\"dataframe\">\n",
              "  <thead>\n",
              "    <tr style=\"text-align: right;\">\n",
              "      <th></th>\n",
              "      <th>Unnamed: 0</th>\n",
              "      <th>PassengerId</th>\n",
              "      <th>Survived</th>\n",
              "      <th>Sex</th>\n",
              "      <th>Age</th>\n",
              "      <th>Fare</th>\n",
              "      <th>Pclass_1</th>\n",
              "      <th>Pclass_2</th>\n",
              "      <th>Pclass_3</th>\n",
              "      <th>Family_size</th>\n",
              "      <th>Title_1</th>\n",
              "      <th>Title_2</th>\n",
              "      <th>Title_3</th>\n",
              "      <th>Title_4</th>\n",
              "      <th>Emb_1</th>\n",
              "      <th>Emb_2</th>\n",
              "      <th>Emb_3</th>\n",
              "    </tr>\n",
              "  </thead>\n",
              "  <tbody>\n",
              "    <tr>\n",
              "      <th>0</th>\n",
              "      <td>791</td>\n",
              "      <td>792</td>\n",
              "      <td>0</td>\n",
              "      <td>1</td>\n",
              "      <td>0.2000</td>\n",
              "      <td>0.050749</td>\n",
              "      <td>0</td>\n",
              "      <td>1</td>\n",
              "      <td>0</td>\n",
              "      <td>0.0</td>\n",
              "      <td>1</td>\n",
              "      <td>0</td>\n",
              "      <td>0</td>\n",
              "      <td>0</td>\n",
              "      <td>0</td>\n",
              "      <td>0</td>\n",
              "      <td>1</td>\n",
              "    </tr>\n",
              "    <tr>\n",
              "      <th>1</th>\n",
              "      <td>792</td>\n",
              "      <td>793</td>\n",
              "      <td>0</td>\n",
              "      <td>0</td>\n",
              "      <td>0.3500</td>\n",
              "      <td>0.135753</td>\n",
              "      <td>0</td>\n",
              "      <td>0</td>\n",
              "      <td>1</td>\n",
              "      <td>1.0</td>\n",
              "      <td>0</td>\n",
              "      <td>0</td>\n",
              "      <td>0</td>\n",
              "      <td>1</td>\n",
              "      <td>0</td>\n",
              "      <td>0</td>\n",
              "      <td>1</td>\n",
              "    </tr>\n",
              "    <tr>\n",
              "      <th>2</th>\n",
              "      <td>793</td>\n",
              "      <td>794</td>\n",
              "      <td>0</td>\n",
              "      <td>1</td>\n",
              "      <td>0.3500</td>\n",
              "      <td>0.059914</td>\n",
              "      <td>1</td>\n",
              "      <td>0</td>\n",
              "      <td>0</td>\n",
              "      <td>0.0</td>\n",
              "      <td>1</td>\n",
              "      <td>0</td>\n",
              "      <td>0</td>\n",
              "      <td>0</td>\n",
              "      <td>1</td>\n",
              "      <td>0</td>\n",
              "      <td>0</td>\n",
              "    </tr>\n",
              "    <tr>\n",
              "      <th>3</th>\n",
              "      <td>794</td>\n",
              "      <td>795</td>\n",
              "      <td>0</td>\n",
              "      <td>1</td>\n",
              "      <td>0.3125</td>\n",
              "      <td>0.015412</td>\n",
              "      <td>0</td>\n",
              "      <td>0</td>\n",
              "      <td>1</td>\n",
              "      <td>0.0</td>\n",
              "      <td>1</td>\n",
              "      <td>0</td>\n",
              "      <td>0</td>\n",
              "      <td>0</td>\n",
              "      <td>0</td>\n",
              "      <td>0</td>\n",
              "      <td>1</td>\n",
              "    </tr>\n",
              "    <tr>\n",
              "      <th>4</th>\n",
              "      <td>795</td>\n",
              "      <td>796</td>\n",
              "      <td>0</td>\n",
              "      <td>1</td>\n",
              "      <td>0.4875</td>\n",
              "      <td>0.025374</td>\n",
              "      <td>0</td>\n",
              "      <td>1</td>\n",
              "      <td>0</td>\n",
              "      <td>0.0</td>\n",
              "      <td>1</td>\n",
              "      <td>0</td>\n",
              "      <td>0</td>\n",
              "      <td>0</td>\n",
              "      <td>0</td>\n",
              "      <td>0</td>\n",
              "      <td>1</td>\n",
              "    </tr>\n",
              "  </tbody>\n",
              "</table>\n",
              "</div>"
            ],
            "text/plain": [
              "   Unnamed: 0  PassengerId  Survived  Sex  ...  Title_4  Emb_1  Emb_2  Emb_3\n",
              "0         791          792         0    1  ...        0      0      0      1\n",
              "1         792          793         0    0  ...        1      0      0      1\n",
              "2         793          794         0    1  ...        0      1      0      0\n",
              "3         794          795         0    1  ...        0      0      0      1\n",
              "4         795          796         0    1  ...        0      0      0      1\n",
              "\n",
              "[5 rows x 17 columns]"
            ]
          },
          "metadata": {
            "tags": []
          },
          "execution_count": 4
        }
      ]
    },
    {
      "cell_type": "code",
      "metadata": {
        "id": "aTqVdlH8UoiM",
        "colab_type": "code",
        "colab": {
          "base_uri": "https://localhost:8080/",
          "height": 252
        },
        "outputId": "d760214e-1a25-4123-92d2-10bc267c70a8"
      },
      "source": [
        "train_data.info"
      ],
      "execution_count": 5,
      "outputs": [
        {
          "output_type": "execute_result",
          "data": {
            "text/plain": [
              "<bound method DataFrame.info of      Unnamed: 0  PassengerId  Survived  Sex  ...  Title_4  Emb_1  Emb_2  Emb_3\n",
              "0             0            1         0    1  ...        0      0      0      1\n",
              "1             1            2         1    0  ...        0      1      0      0\n",
              "2             2            3         1    0  ...        1      0      0      1\n",
              "3             3            4         1    0  ...        0      0      0      1\n",
              "4             4            5         0    1  ...        0      0      0      1\n",
              "..          ...          ...       ...  ...  ...      ...    ...    ...    ...\n",
              "787         787          788         0    1  ...        0      0      1      0\n",
              "788         788          789         1    1  ...        0      0      0      1\n",
              "789         789          790         0    1  ...        0      1      0      0\n",
              "790         790          791         0    1  ...        0      0      1      0\n",
              "791         791          792         0    1  ...        0      0      0      1\n",
              "\n",
              "[792 rows x 17 columns]>"
            ]
          },
          "metadata": {
            "tags": []
          },
          "execution_count": 5
        }
      ]
    },
    {
      "cell_type": "code",
      "metadata": {
        "id": "dR3GSMvSUvFP",
        "colab_type": "code",
        "colab": {
          "base_uri": "https://localhost:8080/",
          "height": 1000
        },
        "outputId": "20f03278-6d2d-4729-dfda-d5b703f12160"
      },
      "source": [
        "#Checking the distribution of attributes in the dataset:\n",
        "dis = train_data.hist(figsize=(20,20))"
      ],
      "execution_count": 6,
      "outputs": [
        {
          "output_type": "display_data",
          "data": {
            "image/png": "[encoded data removed]",
            "text/plain": [
              "<Figure size 1440x1440 with 20 Axes>"
            ]
          },
          "metadata": {
            "tags": [],
            "needs_background": "light"
          }
        }
      ]
    },
    {
      "cell_type": "code",
      "metadata": {
        "id": "Wf7PC2tYdu9J",
        "colab_type": "code",
        "colab": {}
      },
      "source": [
        "#Dropping unproductive table\n",
        "train_data.drop(\"Unnamed: 0\",axis=1, inplace= True)\n",
        "test_data.drop(\"Unnamed: 0\",axis=1, inplace= True)\n",
        "train_data.drop(\"PassengerId\",axis=1, inplace= True)\n",
        "test_data.drop(\"PassengerId\",axis=1, inplace= True)"
      ],
      "execution_count": 0,
      "outputs": []
    },
    {
      "cell_type": "code",
      "metadata": {
        "id": "eUZmnmu2gWi0",
        "colab_type": "code",
        "colab": {}
      },
      "source": [
        "#Spliting datasets into dependent & independent variable\n",
        "X_train = train_data.drop(\"Survived\", axis=1)\n",
        "y_train = train_data[\"Survived\"]\n",
        "X_test = test_data.drop(\"Survived\", axis=1)\n",
        "y_test = test_data[\"Survived\"]"
      ],
      "execution_count": 0,
      "outputs": []
    },
    {
      "cell_type": "code",
      "metadata": {
        "id": "FuYlzoQSdxzR",
        "colab_type": "code",
        "colab": {}
      },
      "source": [
        "#Applying the model on the dataset\n",
        "from sklearn.neighbors import KNeighborsClassifier as KNN\n",
        "from sklearn.linear_model import LogisticRegression\n",
        "from sklearn.tree import DecisionTreeClassifier\n"
      ],
      "execution_count": 0,
      "outputs": []
    },
    {
      "cell_type": "markdown",
      "metadata": {
        "id": "Nr6aGzCWezSA",
        "colab_type": "text"
      },
      "source": [
        "After applying all the split and importing the libraries its time to apply the model. In this we have taken a random value of k as 10. further we will find the best value of k to the better results.\n",
        "\n"
      ]
    },
    {
      "cell_type": "code",
      "metadata": {
        "id": "XuaJAzjrTHyB",
        "colab_type": "code",
        "colab": {}
      },
      "source": [
        "# Put models in dictionary to make function\n",
        "model_1 = {\"KNN\": KNN(n_neighbors = 10)}\n",
        "\n",
        "#Create a function to fit and score models\n",
        "def fit_and_score(model_1, X_train, X_test, y_train, y_test):\n",
        "    \n",
        "    \"\"\"\n",
        "    Fits and evaluate given machine learnin models.\n",
        "    models: A dict of different Scikit-larn machine learning models\n",
        "    X_train: training data\n",
        "    X_test: testinng data\n",
        "    y_train: traininng labels\n",
        "    y_test: test labels\n",
        "    \"\"\"\n",
        "    #set random seed\n",
        "    np.random.seed(42)\n",
        "    \n",
        "    #Make a dictionary to keep model scores\n",
        "    model_scores = {}\n",
        "    \n",
        "    #Loop through models\n",
        "    for name, model in model_1.items():\n",
        "        #Fit the model to the data\n",
        "        model.fit(X_train, y_train)\n",
        "        #Evaluate the model and append its score to model_scores\n",
        "        model_scores[name]=model.score(X_test, y_test)\n",
        "    return model_scores"
      ],
      "execution_count": 0,
      "outputs": []
    },
    {
      "cell_type": "code",
      "metadata": {
        "id": "dp9Fgl7KTWLO",
        "colab_type": "code",
        "colab": {
          "base_uri": "https://localhost:8080/",
          "height": 34
        },
        "outputId": "2bc20dd6-ffab-4027-d03e-794d46b605a0"
      },
      "source": [
        "#Calculating the score\n",
        "model_scores = fit_and_score(model_1=model_1,\n",
        "                            X_train = X_train,\n",
        "                            X_test= X_test,\n",
        "                            y_train = y_train,\n",
        "                            y_test = y_test)\n",
        "model_scores"
      ],
      "execution_count": 11,
      "outputs": [
        {
          "output_type": "execute_result",
          "data": {
            "text/plain": [
              "{'KNN': 0.78}"
            ]
          },
          "metadata": {
            "tags": []
          },
          "execution_count": 11
        }
      ]
    },
    {
      "cell_type": "markdown",
      "metadata": {
        "id": "fPXK_k0BfRoz",
        "colab_type": "text"
      },
      "source": [
        "Now as we have applied the KNN model with the random value of k it is important to find the best value of k so that our model can be trained more robustly. Therefore we have used Elbow method to find the value of k."
      ]
    },
    {
      "cell_type": "code",
      "metadata": {
        "id": "0LX4Lxxugtt5",
        "colab_type": "code",
        "colab": {}
      },
      "source": [
        "def Elbow(K):\n",
        "    #initiating empty list\n",
        "    test_error = []\n",
        "   \n",
        "    #training model for evey value of K\n",
        "    for i in K:\n",
        "        #Instance oh KNN\n",
        "        clf = KNN(n_neighbors = i)\n",
        "        clf.fit(X_train, y_train)\n",
        "        # Appending F1 scores to empty list claculated using the predictions\n",
        "        tmp = clf.predict(X_test)\n",
        "        tmp = f1_score(tmp,y_test)\n",
        "        error = 1-tmp\n",
        "        test_error.append(error)\n",
        "    \n",
        "    return test_error"
      ],
      "execution_count": 0,
      "outputs": []
    },
    {
      "cell_type": "code",
      "metadata": {
        "id": "a34N_M0pg_1s",
        "colab_type": "code",
        "colab": {}
      },
      "source": [
        "#Defining K range\n",
        "k = range(4, 20, 1)"
      ],
      "execution_count": 0,
      "outputs": []
    },
    {
      "cell_type": "code",
      "metadata": {
        "id": "WTESf9TghE8Q",
        "colab_type": "code",
        "colab": {}
      },
      "source": [
        "# calling above defined function\n",
        "test = Elbow(k)"
      ],
      "execution_count": 0,
      "outputs": []
    },
    {
      "cell_type": "code",
      "metadata": {
        "id": "e0rlHH28hG7m",
        "colab_type": "code",
        "outputId": "494ad3aa-c701-4f5c-8f0a-51e80f1ad6a4",
        "colab": {
          "base_uri": "https://localhost:8080/",
          "height": 295
        }
      },
      "source": [
        "# plotting the Curves\n",
        "plt.plot(k, test)\n",
        "plt.xlabel('K Neighbors')\n",
        "plt.ylabel('Test error')\n",
        "plt.title('Elbow Curve to find optimal k value');"
      ],
      "execution_count": 15,
      "outputs": [
        {
          "output_type": "display_data",
          "data": {
            "image/png": "[encoded data removed]",
            "text/plain": [
              "<Figure size 432x288 with 1 Axes>"
            ]
          },
          "metadata": {
            "tags": [],
            "needs_background": "light"
          }
        }
      ]
    },
    {
      "cell_type": "markdown",
      "metadata": {
        "id": "RCSHLec_ioyF",
        "colab_type": "text"
      },
      "source": [
        "The above graph shows the loss or error by the model on different values of k. From the graph we can see if the value of k = 5 or 7 then model will be minimum error so we are again fitting hte model with K = 5 and lets see if there is some signifcant change in the results.\n"
      ]
    },
    {
      "cell_type": "code",
      "metadata": {
        "id": "pqr39aoOiemm",
        "colab_type": "code",
        "colab": {}
      },
      "source": [
        "\n",
        "# Put models in dictionary to make function\n",
        "models = {\"Logistic Regression\": LogisticRegression(),\n",
        "         \"KNN\": KNN(n_neighbors = 7),\n",
        "         \"Decision\": DecisionTreeClassifier(criterion= 'entropy', max_depth= 10, min_samples_leaf=3, min_samples_split=14 ,random_state= 42)}\n",
        "\n",
        "#Create a function to fit and score models\n",
        "def fit_and_score(models, X_train, X_test, y_train, y_test):\n",
        "    \n",
        "    \"\"\"\n",
        "    Fits and evaluate given machine learnin models.\n",
        "    models: A dict of different Scikit-larn machine learning models\n",
        "    X_train: training data\n",
        "    X_test: testinng data\n",
        "    y_train: traininng labels\n",
        "    y_test: test labels\n",
        "    \"\"\"\n",
        "    #set random seed\n",
        "    np.random.seed(42)\n",
        "    \n",
        "    #Make a dictionary to keep model scores\n",
        "    model_scores = {}\n",
        "    \n",
        "    #Loop through models\n",
        "    for name, model in models.items():\n",
        "        #Fit the model to the data\n",
        "        model.fit(X_train, y_train)\n",
        "        #Evaluate the model and append its score to model_scores\n",
        "        model_scores[name]=model.score(X_test, y_test)\n",
        "    return model_scores"
      ],
      "execution_count": 0,
      "outputs": []
    },
    {
      "cell_type": "code",
      "metadata": {
        "id": "vKZwdB_EjiNE",
        "colab_type": "code",
        "outputId": "00316a2c-6ee2-473b-bf81-1f30997811ec",
        "colab": {
          "base_uri": "https://localhost:8080/",
          "height": 34
        }
      },
      "source": [
        "#Calculating the score\n",
        "model_scores = fit_and_score(models=models,\n",
        "                            X_train = X_train,\n",
        "                            X_test= X_test,\n",
        "                            y_train = y_train,\n",
        "                            y_test = y_test)\n",
        "model_scores"
      ],
      "execution_count": 17,
      "outputs": [
        {
          "output_type": "execute_result",
          "data": {
            "text/plain": [
              "{'Decision': 0.87, 'KNN': 0.82, 'Logistic Regression': 0.88}"
            ]
          },
          "metadata": {
            "tags": []
          },
          "execution_count": 17
        }
      ]
    },
    {
      "cell_type": "code",
      "metadata": {
        "id": "ANW0py3VkKMN",
        "colab_type": "code",
        "outputId": "ce133354-c7ce-4626-f681-322d60970ad7",
        "colab": {
          "base_uri": "https://localhost:8080/",
          "height": 351
        }
      },
      "source": [
        "#Model comaprision\n",
        "model_compare = pd.DataFrame(model_scores, index = [\"accuracy\"])\n",
        "model_compare.T.plot.bar();"
      ],
      "execution_count": 18,
      "outputs": [
        {
          "output_type": "display_data",
          "data": {
            "image/png": "[encoded data removed]",
            "text/plain": [
              "<Figure size 432x288 with 1 Axes>"
            ]
          },
          "metadata": {
            "tags": [],
            "needs_background": "light"
          }
        }
      ]
    },
    {
      "cell_type": "markdown",
      "metadata": {
        "id": "tjEjBYgWjLVW",
        "colab_type": "text"
      },
      "source": [
        "In the above results we can see that the value of KNN model have increased by 4%. On the other hand it is not performing as good as logistic regression. So, further if i need to move i would have picked logistic regression to predict the values. "
      ]
    }
  ]
}